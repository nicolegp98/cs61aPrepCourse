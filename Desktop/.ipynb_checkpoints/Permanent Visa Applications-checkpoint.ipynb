{
 "cells": [
  {
   "cell_type": "markdown",
   "metadata": {},
   "source": [
    "# Permanent Visa "
   ]
  },
  {
   "cell_type": "code",
   "execution_count": 1,
   "metadata": {
    "collapsed": true
   },
   "outputs": [],
   "source": [
    "from datascience import *\n",
    "import numpy as np"
   ]
  },
  {
   "cell_type": "code",
   "execution_count": 9,
   "metadata": {
    "collapsed": true
   },
   "outputs": [],
   "source": [
    "Visa = Table.read_table('us_perm_visas.csv').select(\"case_no\", \"case_status\",\"class_of_admission\",11, \"decision_date\",\"us_economic_sector\")"
   ]
  },
  {
   "cell_type": "code",
   "execution_count": 10,
   "metadata": {},
   "outputs": [
    {
     "data": {
      "text/html": [
       "<table border=\"1\" class=\"dataframe\">\n",
       "    <thead>\n",
       "        <tr>\n",
       "            <th>case_no</th> <th>case_status</th> <th>class_of_admission</th> <th>country_of_citzenship</th> <th>decision_date</th> <th>us_economic_sector</th>\n",
       "        </tr>\n",
       "    </thead>\n",
       "    <tbody>\n",
       "        <tr>\n",
       "            <td>A-07323-97014</td> <td>Certified        </td> <td>J-1               </td> <td>ARMENIA              </td> <td>2012-02-01   </td> <td>IT                   </td>\n",
       "        </tr>\n",
       "    </tbody>\n",
       "        <tr>\n",
       "            <td>A-07332-99439</td> <td>Denied           </td> <td>B-2               </td> <td>POLAND               </td> <td>2011-12-21   </td> <td>Other Economic Sector</td>\n",
       "        </tr>\n",
       "    </tbody>\n",
       "        <tr>\n",
       "            <td>A-07333-99643</td> <td>Certified        </td> <td>H-1B              </td> <td>INDIA                </td> <td>2011-12-01   </td> <td>Aerospace            </td>\n",
       "        </tr>\n",
       "    </tbody>\n",
       "        <tr>\n",
       "            <td>A-07339-01930</td> <td>Certified        </td> <td>B-2               </td> <td>SOUTH KOREA          </td> <td>2011-12-01   </td> <td>Other Economic Sector</td>\n",
       "        </tr>\n",
       "    </tbody>\n",
       "        <tr>\n",
       "            <td>A-07345-03565</td> <td>Certified        </td> <td>L-1               </td> <td>CANADA               </td> <td>2012-01-26   </td> <td>Advanced Mfg         </td>\n",
       "        </tr>\n",
       "    </tbody>\n",
       "        <tr>\n",
       "            <td>A-07352-06288</td> <td>Denied           </td> <td>EWI               </td> <td>ECUADOR              </td> <td>2012-01-26   </td> <td>Other Economic Sector</td>\n",
       "        </tr>\n",
       "    </tbody>\n",
       "        <tr>\n",
       "            <td>A-07354-06926</td> <td>Certified-Expired</td> <td>H-1B              </td> <td>MEXICO               </td> <td>2011-10-07   </td> <td>Educational Services </td>\n",
       "        </tr>\n",
       "    </tbody>\n",
       "        <tr>\n",
       "            <td>A-08004-10147</td> <td>Denied           </td> <td>E-2               </td> <td>CANADA               </td> <td>2012-02-06   </td> <td>Advanced Mfg         </td>\n",
       "        </tr>\n",
       "    </tbody>\n",
       "        <tr>\n",
       "            <td>A-08004-10184</td> <td>Certified        </td> <td>H-1B              </td> <td>CANADA               </td> <td>2012-02-29   </td> <td>IT                   </td>\n",
       "        </tr>\n",
       "    </tbody>\n",
       "        <tr>\n",
       "            <td>A-08010-11785</td> <td>Denied           </td> <td>E-2               </td> <td>PAKISTAN             </td> <td>2012-03-30   </td> <td>Retail               </td>\n",
       "        </tr>\n",
       "    </tbody>\n",
       "</table>\n",
       "<p>... (2403 rows omitted)</p"
      ],
      "text/plain": [
       "case_no       | case_status       | class_of_admission | country_of_citzenship | decision_date | us_economic_sector\n",
       "A-07323-97014 | Certified         | J-1                | ARMENIA               | 2012-02-01    | IT\n",
       "A-07332-99439 | Denied            | B-2                | POLAND                | 2011-12-21    | Other Economic Sector\n",
       "A-07333-99643 | Certified         | H-1B               | INDIA                 | 2011-12-01    | Aerospace\n",
       "A-07339-01930 | Certified         | B-2                | SOUTH KOREA           | 2011-12-01    | Other Economic Sector\n",
       "A-07345-03565 | Certified         | L-1                | CANADA                | 2012-01-26    | Advanced Mfg\n",
       "A-07352-06288 | Denied            | EWI                | ECUADOR               | 2012-01-26    | Other Economic Sector\n",
       "A-07354-06926 | Certified-Expired | H-1B               | MEXICO                | 2011-10-07    | Educational Services\n",
       "A-08004-10147 | Denied            | E-2                | CANADA                | 2012-02-06    | Advanced Mfg\n",
       "A-08004-10184 | Certified         | H-1B               | CANADA                | 2012-02-29    | IT\n",
       "A-08010-11785 | Denied            | E-2                | PAKISTAN              | 2012-03-30    | Retail\n",
       "... (2403 rows omitted)"
      ]
     },
     "execution_count": 10,
     "metadata": {},
     "output_type": "execute_result"
    }
   ],
   "source": [
    "Visa"
   ]
  },
  {
   "cell_type": "code",
   "execution_count": null,
   "metadata": {
    "collapsed": true
   },
   "outputs": [],
   "source": []
  }
 ],
 "metadata": {
  "kernelspec": {
   "display_name": "Python 3",
   "language": "python",
   "name": "python3"
  },
  "language_info": {
   "codemirror_mode": {
    "name": "ipython",
    "version": 3
   },
   "file_extension": ".py",
   "mimetype": "text/x-python",
   "name": "python",
   "nbconvert_exporter": "python",
   "pygments_lexer": "ipython3",
   "version": "3.6.3"
  }
 },
 "nbformat": 4,
 "nbformat_minor": 2
}
